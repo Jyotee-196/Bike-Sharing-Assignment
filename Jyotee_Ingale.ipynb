{
 "cells": [
  {
   "cell_type": "markdown",
   "id": "9147272d",
   "metadata": {},
   "source": [
    "# Bike Sharing Assignment"
   ]
  },
  {
   "cell_type": "code",
   "execution_count": 1,
   "id": "21df6aea",
   "metadata": {},
   "outputs": [],
   "source": [
    "import numpy as np \n",
    "import pandas as pd\n",
    "import matplotlib.pyplot as plt\n",
    "import seaborn as sns\n",
    "from sklearn.linear_model import LogisticRegression\n",
    "from sklearn.model_selection import train_test_split\n",
    "import datetime as dt"
   ]
  },
  {
   "cell_type": "markdown",
   "id": "1016e7b6",
   "metadata": {},
   "source": [
    "#### Below is the csv file or shared data for assignment"
   ]
  },
  {
   "cell_type": "code",
   "execution_count": 2,
   "id": "204771b5",
   "metadata": {},
   "outputs": [],
   "source": [
    "df = pd.read_csv(\"E:\\ML&AI\\Bike Sharing case study\\day.csv\", low_memory=False)\n",
    "df = pd.DataFrame(df)"
   ]
  },
  {
   "cell_type": "code",
   "execution_count": 4,
   "id": "3fd54aa5",
   "metadata": {},
   "outputs": [
    {
     "data": {
      "text/html": [
       "<div>\n",
       "<style scoped>\n",
       "    .dataframe tbody tr th:only-of-type {\n",
       "        vertical-align: middle;\n",
       "    }\n",
       "\n",
       "    .dataframe tbody tr th {\n",
       "        vertical-align: top;\n",
       "    }\n",
       "\n",
       "    .dataframe thead th {\n",
       "        text-align: right;\n",
       "    }\n",
       "</style>\n",
       "<table border=\"1\" class=\"dataframe\">\n",
       "  <thead>\n",
       "    <tr style=\"text-align: right;\">\n",
       "      <th></th>\n",
       "      <th>instant</th>\n",
       "      <th>dteday</th>\n",
       "      <th>season</th>\n",
       "      <th>yr</th>\n",
       "      <th>mnth</th>\n",
       "      <th>holiday</th>\n",
       "      <th>weekday</th>\n",
       "      <th>workingday</th>\n",
       "      <th>weathersit</th>\n",
       "      <th>temp</th>\n",
       "      <th>atemp</th>\n",
       "      <th>hum</th>\n",
       "      <th>windspeed</th>\n",
       "      <th>casual</th>\n",
       "      <th>registered</th>\n",
       "      <th>cnt</th>\n",
       "    </tr>\n",
       "  </thead>\n",
       "  <tbody>\n",
       "    <tr>\n",
       "      <th>0</th>\n",
       "      <td>1</td>\n",
       "      <td>01-01-2018</td>\n",
       "      <td>1</td>\n",
       "      <td>0</td>\n",
       "      <td>1</td>\n",
       "      <td>0</td>\n",
       "      <td>6</td>\n",
       "      <td>0</td>\n",
       "      <td>2</td>\n",
       "      <td>14.110847</td>\n",
       "      <td>18.18125</td>\n",
       "      <td>80.5833</td>\n",
       "      <td>10.749882</td>\n",
       "      <td>331</td>\n",
       "      <td>654</td>\n",
       "      <td>985</td>\n",
       "    </tr>\n",
       "    <tr>\n",
       "      <th>1</th>\n",
       "      <td>2</td>\n",
       "      <td>02-01-2018</td>\n",
       "      <td>1</td>\n",
       "      <td>0</td>\n",
       "      <td>1</td>\n",
       "      <td>0</td>\n",
       "      <td>0</td>\n",
       "      <td>0</td>\n",
       "      <td>2</td>\n",
       "      <td>14.902598</td>\n",
       "      <td>17.68695</td>\n",
       "      <td>69.6087</td>\n",
       "      <td>16.652113</td>\n",
       "      <td>131</td>\n",
       "      <td>670</td>\n",
       "      <td>801</td>\n",
       "    </tr>\n",
       "    <tr>\n",
       "      <th>2</th>\n",
       "      <td>3</td>\n",
       "      <td>03-01-2018</td>\n",
       "      <td>1</td>\n",
       "      <td>0</td>\n",
       "      <td>1</td>\n",
       "      <td>0</td>\n",
       "      <td>1</td>\n",
       "      <td>1</td>\n",
       "      <td>1</td>\n",
       "      <td>8.050924</td>\n",
       "      <td>9.47025</td>\n",
       "      <td>43.7273</td>\n",
       "      <td>16.636703</td>\n",
       "      <td>120</td>\n",
       "      <td>1229</td>\n",
       "      <td>1349</td>\n",
       "    </tr>\n",
       "    <tr>\n",
       "      <th>3</th>\n",
       "      <td>4</td>\n",
       "      <td>04-01-2018</td>\n",
       "      <td>1</td>\n",
       "      <td>0</td>\n",
       "      <td>1</td>\n",
       "      <td>0</td>\n",
       "      <td>2</td>\n",
       "      <td>1</td>\n",
       "      <td>1</td>\n",
       "      <td>8.200000</td>\n",
       "      <td>10.60610</td>\n",
       "      <td>59.0435</td>\n",
       "      <td>10.739832</td>\n",
       "      <td>108</td>\n",
       "      <td>1454</td>\n",
       "      <td>1562</td>\n",
       "    </tr>\n",
       "    <tr>\n",
       "      <th>4</th>\n",
       "      <td>5</td>\n",
       "      <td>05-01-2018</td>\n",
       "      <td>1</td>\n",
       "      <td>0</td>\n",
       "      <td>1</td>\n",
       "      <td>0</td>\n",
       "      <td>3</td>\n",
       "      <td>1</td>\n",
       "      <td>1</td>\n",
       "      <td>9.305237</td>\n",
       "      <td>11.46350</td>\n",
       "      <td>43.6957</td>\n",
       "      <td>12.522300</td>\n",
       "      <td>82</td>\n",
       "      <td>1518</td>\n",
       "      <td>1600</td>\n",
       "    </tr>\n",
       "  </tbody>\n",
       "</table>\n",
       "</div>"
      ],
      "text/plain": [
       "   instant      dteday  season  yr  mnth  holiday  weekday  workingday  \\\n",
       "0        1  01-01-2018       1   0     1        0        6           0   \n",
       "1        2  02-01-2018       1   0     1        0        0           0   \n",
       "2        3  03-01-2018       1   0     1        0        1           1   \n",
       "3        4  04-01-2018       1   0     1        0        2           1   \n",
       "4        5  05-01-2018       1   0     1        0        3           1   \n",
       "\n",
       "   weathersit       temp     atemp      hum  windspeed  casual  registered  \\\n",
       "0           2  14.110847  18.18125  80.5833  10.749882     331         654   \n",
       "1           2  14.902598  17.68695  69.6087  16.652113     131         670   \n",
       "2           1   8.050924   9.47025  43.7273  16.636703     120        1229   \n",
       "3           1   8.200000  10.60610  59.0435  10.739832     108        1454   \n",
       "4           1   9.305237  11.46350  43.6957  12.522300      82        1518   \n",
       "\n",
       "    cnt  \n",
       "0   985  \n",
       "1   801  \n",
       "2  1349  \n",
       "3  1562  \n",
       "4  1600  "
      ]
     },
     "execution_count": 4,
     "metadata": {},
     "output_type": "execute_result"
    }
   ],
   "source": [
    "df.head()"
   ]
  },
  {
   "cell_type": "markdown",
   "id": "b47621ff",
   "metadata": {},
   "source": [
    "#### Data Understanding"
   ]
  },
  {
   "cell_type": "code",
   "execution_count": 6,
   "id": "46671d9c",
   "metadata": {},
   "outputs": [
    {
     "name": "stdout",
     "output_type": "stream",
     "text": [
      "Rows     :  730\n",
      "Columns  :  16\n",
      "\n",
      "Missing values :   0\n",
      "\n",
      "Unique values :  \n",
      " instant       730\n",
      "dteday        730\n",
      "season          4\n",
      "yr              2\n",
      "mnth           12\n",
      "holiday         2\n",
      "weekday         7\n",
      "workingday      2\n",
      "weathersit      3\n",
      "temp          498\n",
      "atemp         689\n",
      "hum           594\n",
      "windspeed     649\n",
      "casual        605\n",
      "registered    678\n",
      "cnt           695\n",
      "dtype: int64\n",
      "\n",
      "NULL values :   instant       0\n",
      "dteday        0\n",
      "season        0\n",
      "yr            0\n",
      "mnth          0\n",
      "holiday       0\n",
      "weekday       0\n",
      "workingday    0\n",
      "weathersit    0\n",
      "temp          0\n",
      "atemp         0\n",
      "hum           0\n",
      "windspeed     0\n",
      "casual        0\n",
      "registered    0\n",
      "cnt           0\n",
      "dtype: int64\n"
     ]
    }
   ],
   "source": [
    "print (\"Rows     : \" ,df.shape[0])\n",
    "print (\"Columns  : \" ,df.shape[1])\n",
    "print (\"\\nMissing values :  \", df.isnull().sum().values.sum())\n",
    "print (\"\\nUnique values :  \\n\",df.nunique())\n",
    "print (\"\\nNULL values :  \", df.isnull().sum())"
   ]
  },
  {
   "cell_type": "markdown",
   "id": "d030ec9f",
   "metadata": {},
   "source": [
    "#### Data Cleaning"
   ]
  },
  {
   "cell_type": "code",
   "execution_count": 7,
   "id": "82d643bb",
   "metadata": {},
   "outputs": [
    {
     "name": "stdout",
     "output_type": "stream",
     "text": [
      "Empty DataFrame\n",
      "Columns: [instant, dteday, season, yr, mnth, holiday, weekday, workingday, weathersit, temp, atemp, hum, windspeed, casual, registered, cnt]\n",
      "Index: []\n"
     ]
    }
   ],
   "source": [
    "#Finding the duplicates\n",
    "duplicate = df[df.duplicated()]\n",
    "print(duplicate)\n",
    "\n",
    "#We don't have any duplicates in data"
   ]
  },
  {
   "cell_type": "code",
   "execution_count": 8,
   "id": "25c3e791",
   "metadata": {},
   "outputs": [
    {
     "name": "stdout",
     "output_type": "stream",
     "text": [
      "instant       0\n",
      "dteday        0\n",
      "season        0\n",
      "yr            0\n",
      "mnth          0\n",
      "holiday       0\n",
      "weekday       0\n",
      "workingday    0\n",
      "weathersit    0\n",
      "temp          0\n",
      "atemp         0\n",
      "hum           0\n",
      "windspeed     0\n",
      "casual        0\n",
      "registered    0\n",
      "cnt           0\n",
      "dtype: int64\n"
     ]
    }
   ],
   "source": [
    "#Finding the null values\n",
    "print(df.isnull().sum())\n",
    "\n",
    "#we don't have any null"
   ]
  },
  {
   "cell_type": "code",
   "execution_count": 12,
   "id": "58d7281a",
   "metadata": {},
   "outputs": [
    {
     "data": {
      "text/html": [
       "<div>\n",
       "<style scoped>\n",
       "    .dataframe tbody tr th:only-of-type {\n",
       "        vertical-align: middle;\n",
       "    }\n",
       "\n",
       "    .dataframe tbody tr th {\n",
       "        vertical-align: top;\n",
       "    }\n",
       "\n",
       "    .dataframe thead th {\n",
       "        text-align: right;\n",
       "    }\n",
       "</style>\n",
       "<table border=\"1\" class=\"dataframe\">\n",
       "  <thead>\n",
       "    <tr style=\"text-align: right;\">\n",
       "      <th></th>\n",
       "      <th>season</th>\n",
       "      <th>yr</th>\n",
       "      <th>mnth</th>\n",
       "      <th>holiday</th>\n",
       "      <th>weekday</th>\n",
       "      <th>workingday</th>\n",
       "      <th>weathersit</th>\n",
       "      <th>temp</th>\n",
       "      <th>atemp</th>\n",
       "      <th>hum</th>\n",
       "      <th>windspeed</th>\n",
       "      <th>cnt</th>\n",
       "    </tr>\n",
       "  </thead>\n",
       "  <tbody>\n",
       "    <tr>\n",
       "      <th>0</th>\n",
       "      <td>1</td>\n",
       "      <td>0</td>\n",
       "      <td>1</td>\n",
       "      <td>0</td>\n",
       "      <td>6</td>\n",
       "      <td>0</td>\n",
       "      <td>2</td>\n",
       "      <td>14.110847</td>\n",
       "      <td>18.18125</td>\n",
       "      <td>80.5833</td>\n",
       "      <td>10.749882</td>\n",
       "      <td>985</td>\n",
       "    </tr>\n",
       "    <tr>\n",
       "      <th>1</th>\n",
       "      <td>1</td>\n",
       "      <td>0</td>\n",
       "      <td>1</td>\n",
       "      <td>0</td>\n",
       "      <td>0</td>\n",
       "      <td>0</td>\n",
       "      <td>2</td>\n",
       "      <td>14.902598</td>\n",
       "      <td>17.68695</td>\n",
       "      <td>69.6087</td>\n",
       "      <td>16.652113</td>\n",
       "      <td>801</td>\n",
       "    </tr>\n",
       "    <tr>\n",
       "      <th>2</th>\n",
       "      <td>1</td>\n",
       "      <td>0</td>\n",
       "      <td>1</td>\n",
       "      <td>0</td>\n",
       "      <td>1</td>\n",
       "      <td>1</td>\n",
       "      <td>1</td>\n",
       "      <td>8.050924</td>\n",
       "      <td>9.47025</td>\n",
       "      <td>43.7273</td>\n",
       "      <td>16.636703</td>\n",
       "      <td>1349</td>\n",
       "    </tr>\n",
       "    <tr>\n",
       "      <th>3</th>\n",
       "      <td>1</td>\n",
       "      <td>0</td>\n",
       "      <td>1</td>\n",
       "      <td>0</td>\n",
       "      <td>2</td>\n",
       "      <td>1</td>\n",
       "      <td>1</td>\n",
       "      <td>8.200000</td>\n",
       "      <td>10.60610</td>\n",
       "      <td>59.0435</td>\n",
       "      <td>10.739832</td>\n",
       "      <td>1562</td>\n",
       "    </tr>\n",
       "    <tr>\n",
       "      <th>4</th>\n",
       "      <td>1</td>\n",
       "      <td>0</td>\n",
       "      <td>1</td>\n",
       "      <td>0</td>\n",
       "      <td>3</td>\n",
       "      <td>1</td>\n",
       "      <td>1</td>\n",
       "      <td>9.305237</td>\n",
       "      <td>11.46350</td>\n",
       "      <td>43.6957</td>\n",
       "      <td>12.522300</td>\n",
       "      <td>1600</td>\n",
       "    </tr>\n",
       "  </tbody>\n",
       "</table>\n",
       "</div>"
      ],
      "text/plain": [
       "   season  yr  mnth  holiday  weekday  workingday  weathersit       temp  \\\n",
       "0       1   0     1        0        6           0           2  14.110847   \n",
       "1       1   0     1        0        0           0           2  14.902598   \n",
       "2       1   0     1        0        1           1           1   8.050924   \n",
       "3       1   0     1        0        2           1           1   8.200000   \n",
       "4       1   0     1        0        3           1           1   9.305237   \n",
       "\n",
       "      atemp      hum  windspeed   cnt  \n",
       "0  18.18125  80.5833  10.749882   985  \n",
       "1  17.68695  69.6087  16.652113   801  \n",
       "2   9.47025  43.7273  16.636703  1349  \n",
       "3  10.60610  59.0435  10.739832  1562  \n",
       "4  11.46350  43.6957  12.522300  1600  "
      ]
     },
     "execution_count": 12,
     "metadata": {},
     "output_type": "execute_result"
    }
   ],
   "source": [
    "#we are removing the columns 'instant’ , ‘dteday’ , ‘casual’ and ‘registered' as they don't add any value to build a model.\n",
    "\n",
    "df.drop([\"instant\",\"dteday\",\"casual\",\"registered\"], axis=1, inplace=True)\n",
    "df.head()"
   ]
  },
  {
   "cell_type": "markdown",
   "id": "a6a2ae3e",
   "metadata": {},
   "source": [
    "#### Data Analysis"
   ]
  },
  {
   "cell_type": "code",
   "execution_count": 13,
   "id": "892e63ab",
   "metadata": {},
   "outputs": [
    {
     "data": {
      "text/plain": [
       "cnt           1.000000\n",
       "atemp         0.630685\n",
       "temp          0.627044\n",
       "yr            0.569728\n",
       "season        0.404584\n",
       "weathersit    0.295929\n",
       "mnth          0.278191\n",
       "windspeed     0.235132\n",
       "hum           0.098543\n",
       "holiday       0.068764\n",
       "weekday       0.067534\n",
       "workingday    0.062542\n",
       "Name: cnt, dtype: float64"
      ]
     },
     "execution_count": 13,
     "metadata": {},
     "output_type": "execute_result"
    }
   ],
   "source": [
    "#Check for the correlation of the variables\n",
    "\n",
    "df.corr()[\"cnt\"].abs().sort_values(ascending=False)"
   ]
  },
  {
   "cell_type": "code",
   "execution_count": 14,
   "id": "c1ffb67b",
   "metadata": {},
   "outputs": [
    {
     "data": {
      "text/html": [
       "<div>\n",
       "<style scoped>\n",
       "    .dataframe tbody tr th:only-of-type {\n",
       "        vertical-align: middle;\n",
       "    }\n",
       "\n",
       "    .dataframe tbody tr th {\n",
       "        vertical-align: top;\n",
       "    }\n",
       "\n",
       "    .dataframe thead th {\n",
       "        text-align: right;\n",
       "    }\n",
       "</style>\n",
       "<table border=\"1\" class=\"dataframe\">\n",
       "  <thead>\n",
       "    <tr style=\"text-align: right;\">\n",
       "      <th></th>\n",
       "      <th>season</th>\n",
       "      <th>yr</th>\n",
       "      <th>mnth</th>\n",
       "      <th>holiday</th>\n",
       "      <th>weekday</th>\n",
       "      <th>workingday</th>\n",
       "      <th>weathersit</th>\n",
       "      <th>temp</th>\n",
       "      <th>atemp</th>\n",
       "      <th>hum</th>\n",
       "      <th>windspeed</th>\n",
       "      <th>cnt</th>\n",
       "    </tr>\n",
       "  </thead>\n",
       "  <tbody>\n",
       "    <tr>\n",
       "      <th>season</th>\n",
       "      <td>1.000000e+00</td>\n",
       "      <td>-3.279074e-16</td>\n",
       "      <td>8.310321e-01</td>\n",
       "      <td>-0.010868</td>\n",
       "      <td>-0.003081</td>\n",
       "      <td>0.013762</td>\n",
       "      <td>0.021306</td>\n",
       "      <td>0.333361</td>\n",
       "      <td>0.342014</td>\n",
       "      <td>0.208220</td>\n",
       "      <td>-0.229607</td>\n",
       "      <td>0.404584</td>\n",
       "    </tr>\n",
       "    <tr>\n",
       "      <th>yr</th>\n",
       "      <td>-3.279074e-16</td>\n",
       "      <td>1.000000e+00</td>\n",
       "      <td>-5.162656e-16</td>\n",
       "      <td>0.008195</td>\n",
       "      <td>-0.005466</td>\n",
       "      <td>-0.002945</td>\n",
       "      <td>-0.050322</td>\n",
       "      <td>0.048789</td>\n",
       "      <td>0.047215</td>\n",
       "      <td>-0.112547</td>\n",
       "      <td>-0.011624</td>\n",
       "      <td>0.569728</td>\n",
       "    </tr>\n",
       "    <tr>\n",
       "      <th>mnth</th>\n",
       "      <td>8.310321e-01</td>\n",
       "      <td>-5.162656e-16</td>\n",
       "      <td>1.000000e+00</td>\n",
       "      <td>0.018905</td>\n",
       "      <td>0.009523</td>\n",
       "      <td>-0.004688</td>\n",
       "      <td>0.045613</td>\n",
       "      <td>0.219083</td>\n",
       "      <td>0.226430</td>\n",
       "      <td>0.224937</td>\n",
       "      <td>-0.208013</td>\n",
       "      <td>0.278191</td>\n",
       "    </tr>\n",
       "    <tr>\n",
       "      <th>holiday</th>\n",
       "      <td>-1.086804e-02</td>\n",
       "      <td>8.195345e-03</td>\n",
       "      <td>1.890483e-02</td>\n",
       "      <td>1.000000</td>\n",
       "      <td>-0.101962</td>\n",
       "      <td>-0.252948</td>\n",
       "      <td>-0.034395</td>\n",
       "      <td>-0.028764</td>\n",
       "      <td>-0.032703</td>\n",
       "      <td>-0.015662</td>\n",
       "      <td>0.006257</td>\n",
       "      <td>-0.068764</td>\n",
       "    </tr>\n",
       "    <tr>\n",
       "      <th>weekday</th>\n",
       "      <td>-3.081198e-03</td>\n",
       "      <td>-5.466369e-03</td>\n",
       "      <td>9.522969e-03</td>\n",
       "      <td>-0.101962</td>\n",
       "      <td>1.000000</td>\n",
       "      <td>0.035800</td>\n",
       "      <td>0.031112</td>\n",
       "      <td>-0.000168</td>\n",
       "      <td>-0.007539</td>\n",
       "      <td>-0.052290</td>\n",
       "      <td>0.014283</td>\n",
       "      <td>0.067534</td>\n",
       "    </tr>\n",
       "    <tr>\n",
       "      <th>workingday</th>\n",
       "      <td>1.376178e-02</td>\n",
       "      <td>-2.945396e-03</td>\n",
       "      <td>-4.687953e-03</td>\n",
       "      <td>-0.252948</td>\n",
       "      <td>0.035800</td>\n",
       "      <td>1.000000</td>\n",
       "      <td>0.060236</td>\n",
       "      <td>0.053470</td>\n",
       "      <td>0.052940</td>\n",
       "      <td>0.023202</td>\n",
       "      <td>-0.018666</td>\n",
       "      <td>0.062542</td>\n",
       "    </tr>\n",
       "    <tr>\n",
       "      <th>weathersit</th>\n",
       "      <td>2.130636e-02</td>\n",
       "      <td>-5.032247e-02</td>\n",
       "      <td>4.561335e-02</td>\n",
       "      <td>-0.034395</td>\n",
       "      <td>0.031112</td>\n",
       "      <td>0.060236</td>\n",
       "      <td>1.000000</td>\n",
       "      <td>-0.119503</td>\n",
       "      <td>-0.120559</td>\n",
       "      <td>0.590277</td>\n",
       "      <td>0.039769</td>\n",
       "      <td>-0.295929</td>\n",
       "    </tr>\n",
       "    <tr>\n",
       "      <th>temp</th>\n",
       "      <td>3.333607e-01</td>\n",
       "      <td>4.878919e-02</td>\n",
       "      <td>2.190833e-01</td>\n",
       "      <td>-0.028764</td>\n",
       "      <td>-0.000168</td>\n",
       "      <td>0.053470</td>\n",
       "      <td>-0.119503</td>\n",
       "      <td>1.000000</td>\n",
       "      <td>0.991696</td>\n",
       "      <td>0.128565</td>\n",
       "      <td>-0.158186</td>\n",
       "      <td>0.627044</td>\n",
       "    </tr>\n",
       "    <tr>\n",
       "      <th>atemp</th>\n",
       "      <td>3.420139e-01</td>\n",
       "      <td>4.721519e-02</td>\n",
       "      <td>2.264302e-01</td>\n",
       "      <td>-0.032703</td>\n",
       "      <td>-0.007539</td>\n",
       "      <td>0.052940</td>\n",
       "      <td>-0.120559</td>\n",
       "      <td>0.991696</td>\n",
       "      <td>1.000000</td>\n",
       "      <td>0.141512</td>\n",
       "      <td>-0.183876</td>\n",
       "      <td>0.630685</td>\n",
       "    </tr>\n",
       "    <tr>\n",
       "      <th>hum</th>\n",
       "      <td>2.082196e-01</td>\n",
       "      <td>-1.125471e-01</td>\n",
       "      <td>2.249368e-01</td>\n",
       "      <td>-0.015662</td>\n",
       "      <td>-0.052290</td>\n",
       "      <td>0.023202</td>\n",
       "      <td>0.590277</td>\n",
       "      <td>0.128565</td>\n",
       "      <td>0.141512</td>\n",
       "      <td>1.000000</td>\n",
       "      <td>-0.248506</td>\n",
       "      <td>-0.098543</td>\n",
       "    </tr>\n",
       "    <tr>\n",
       "      <th>windspeed</th>\n",
       "      <td>-2.296069e-01</td>\n",
       "      <td>-1.162435e-02</td>\n",
       "      <td>-2.080131e-01</td>\n",
       "      <td>0.006257</td>\n",
       "      <td>0.014283</td>\n",
       "      <td>-0.018666</td>\n",
       "      <td>0.039769</td>\n",
       "      <td>-0.158186</td>\n",
       "      <td>-0.183876</td>\n",
       "      <td>-0.248506</td>\n",
       "      <td>1.000000</td>\n",
       "      <td>-0.235132</td>\n",
       "    </tr>\n",
       "    <tr>\n",
       "      <th>cnt</th>\n",
       "      <td>4.045838e-01</td>\n",
       "      <td>5.697285e-01</td>\n",
       "      <td>2.781909e-01</td>\n",
       "      <td>-0.068764</td>\n",
       "      <td>0.067534</td>\n",
       "      <td>0.062542</td>\n",
       "      <td>-0.295929</td>\n",
       "      <td>0.627044</td>\n",
       "      <td>0.630685</td>\n",
       "      <td>-0.098543</td>\n",
       "      <td>-0.235132</td>\n",
       "      <td>1.000000</td>\n",
       "    </tr>\n",
       "  </tbody>\n",
       "</table>\n",
       "</div>"
      ],
      "text/plain": [
       "                  season            yr          mnth   holiday   weekday  \\\n",
       "season      1.000000e+00 -3.279074e-16  8.310321e-01 -0.010868 -0.003081   \n",
       "yr         -3.279074e-16  1.000000e+00 -5.162656e-16  0.008195 -0.005466   \n",
       "mnth        8.310321e-01 -5.162656e-16  1.000000e+00  0.018905  0.009523   \n",
       "holiday    -1.086804e-02  8.195345e-03  1.890483e-02  1.000000 -0.101962   \n",
       "weekday    -3.081198e-03 -5.466369e-03  9.522969e-03 -0.101962  1.000000   \n",
       "workingday  1.376178e-02 -2.945396e-03 -4.687953e-03 -0.252948  0.035800   \n",
       "weathersit  2.130636e-02 -5.032247e-02  4.561335e-02 -0.034395  0.031112   \n",
       "temp        3.333607e-01  4.878919e-02  2.190833e-01 -0.028764 -0.000168   \n",
       "atemp       3.420139e-01  4.721519e-02  2.264302e-01 -0.032703 -0.007539   \n",
       "hum         2.082196e-01 -1.125471e-01  2.249368e-01 -0.015662 -0.052290   \n",
       "windspeed  -2.296069e-01 -1.162435e-02 -2.080131e-01  0.006257  0.014283   \n",
       "cnt         4.045838e-01  5.697285e-01  2.781909e-01 -0.068764  0.067534   \n",
       "\n",
       "            workingday  weathersit      temp     atemp       hum  windspeed  \\\n",
       "season        0.013762    0.021306  0.333361  0.342014  0.208220  -0.229607   \n",
       "yr           -0.002945   -0.050322  0.048789  0.047215 -0.112547  -0.011624   \n",
       "mnth         -0.004688    0.045613  0.219083  0.226430  0.224937  -0.208013   \n",
       "holiday      -0.252948   -0.034395 -0.028764 -0.032703 -0.015662   0.006257   \n",
       "weekday       0.035800    0.031112 -0.000168 -0.007539 -0.052290   0.014283   \n",
       "workingday    1.000000    0.060236  0.053470  0.052940  0.023202  -0.018666   \n",
       "weathersit    0.060236    1.000000 -0.119503 -0.120559  0.590277   0.039769   \n",
       "temp          0.053470   -0.119503  1.000000  0.991696  0.128565  -0.158186   \n",
       "atemp         0.052940   -0.120559  0.991696  1.000000  0.141512  -0.183876   \n",
       "hum           0.023202    0.590277  0.128565  0.141512  1.000000  -0.248506   \n",
       "windspeed    -0.018666    0.039769 -0.158186 -0.183876 -0.248506   1.000000   \n",
       "cnt           0.062542   -0.295929  0.627044  0.630685 -0.098543  -0.235132   \n",
       "\n",
       "                 cnt  \n",
       "season      0.404584  \n",
       "yr          0.569728  \n",
       "mnth        0.278191  \n",
       "holiday    -0.068764  \n",
       "weekday     0.067534  \n",
       "workingday  0.062542  \n",
       "weathersit -0.295929  \n",
       "temp        0.627044  \n",
       "atemp       0.630685  \n",
       "hum        -0.098543  \n",
       "windspeed  -0.235132  \n",
       "cnt         1.000000  "
      ]
     },
     "execution_count": 14,
     "metadata": {},
     "output_type": "execute_result"
    }
   ],
   "source": [
    "df.corr()"
   ]
  },
  {
   "cell_type": "code",
   "execution_count": 16,
   "id": "8f8fb6ac",
   "metadata": {},
   "outputs": [
    {
     "data": {
      "image/png": "[encoded data removed]",
      "text/plain": [
       "<Figure size 1296x864 with 2 Axes>"
      ]
     },
     "metadata": {
      "needs_background": "light"
     },
     "output_type": "display_data"
    }
   ],
   "source": [
    "plt.figure(figsize=(18,12))\n",
    "sns.heatmap(df.corr(), annot=True, cmap='PuBu')\n",
    "plt.show()"
   ]
  },
  {
   "cell_type": "code",
   "execution_count": 37,
   "id": "c83f0fc8",
   "metadata": {},
   "outputs": [
    {
     "data": {
      "text/plain": [
       "<AxesSubplot:xlabel='temp', ylabel='cnt'>"
      ]
     },
     "execution_count": 37,
     "metadata": {},
     "output_type": "execute_result"
    },
    {
     "data": {
      "image/png": "[encoded data removed]",
      "text/plain": [
       "<Figure size 432x288 with 1 Axes>"
      ]
     },
     "metadata": {
      "needs_background": "light"
     },
     "output_type": "display_data"
    }
   ],
   "source": [
    "#We can see the most prefered tempereture when people most likely to use the bike\n",
    "\n",
    "sns.regplot(data=df, x=\"temp\", y=\"cnt\")"
   ]
  },
  {
   "cell_type": "code",
   "execution_count": 33,
   "id": "2de5e83d",
   "metadata": {},
   "outputs": [
    {
     "name": "stdout",
     "output_type": "stream",
     "text": [
      "          temp     atemp      hum  windspeed   cnt  season_1  season_2  \\\n",
      "0    14.110847  18.18125  80.5833  10.749882   985         1         0   \n",
      "1    14.902598  17.68695  69.6087  16.652113   801         1         0   \n",
      "2     8.050924   9.47025  43.7273  16.636703  1349         1         0   \n",
      "3     8.200000  10.60610  59.0435  10.739832  1562         1         0   \n",
      "4     9.305237  11.46350  43.6957  12.522300  1600         1         0   \n",
      "..         ...       ...      ...        ...   ...       ...       ...   \n",
      "725  10.420847  11.33210  65.2917  23.458911  2114         1         0   \n",
      "726  10.386653  12.75230  59.0000  10.416557  3095         1         0   \n",
      "727  10.386653  12.12000  75.2917   8.333661  1341         1         0   \n",
      "728  10.489153  11.58500  48.3333  23.500518  1796         1         0   \n",
      "729   8.849153  11.17435  57.7500  10.374682  2729         1         0   \n",
      "\n",
      "     season_3  season_4  yr_0  ...  weekday_2  weekday_3  weekday_4  \\\n",
      "0           0         0     1  ...          0          0          0   \n",
      "1           0         0     1  ...          0          0          0   \n",
      "2           0         0     1  ...          0          0          0   \n",
      "3           0         0     1  ...          1          0          0   \n",
      "4           0         0     1  ...          0          1          0   \n",
      "..        ...       ...   ...  ...        ...        ...        ...   \n",
      "725         0         0     0  ...          0          0          1   \n",
      "726         0         0     0  ...          0          0          0   \n",
      "727         0         0     0  ...          0          0          0   \n",
      "728         0         0     0  ...          0          0          0   \n",
      "729         0         0     0  ...          0          0          0   \n",
      "\n",
      "     weekday_5  weekday_6  workingday_0  workingday_1  weathersit_1  \\\n",
      "0            0          1             1             0             0   \n",
      "1            0          0             1             0             0   \n",
      "2            0          0             0             1             1   \n",
      "3            0          0             0             1             1   \n",
      "4            0          0             0             1             1   \n",
      "..         ...        ...           ...           ...           ...   \n",
      "725          0          0             0             1             0   \n",
      "726          1          0             0             1             0   \n",
      "727          0          1             1             0             0   \n",
      "728          0          0             1             0             1   \n",
      "729          0          0             0             1             0   \n",
      "\n",
      "     weathersit_2  weathersit_3  \n",
      "0               1             0  \n",
      "1               1             0  \n",
      "2               0             0  \n",
      "3               0             0  \n",
      "4               0             0  \n",
      "..            ...           ...  \n",
      "725             1             0  \n",
      "726             1             0  \n",
      "727             1             0  \n",
      "728             0             0  \n",
      "729             1             0  \n",
      "\n",
      "[730 rows x 37 columns]\n"
     ]
    }
   ],
   "source": [
    "# Let's convert the categorial columns into normal columns\n",
    "one_hot_encoded_data = pd.get_dummies(df, columns = ['season','yr','mnth','holiday','weekday','workingday','weathersit'])\n",
    "\n",
    "df = one_hot_encoded_data\n",
    "\n",
    "print(df)"
   ]
  },
  {
   "cell_type": "code",
   "execution_count": 54,
   "id": "366ba45d",
   "metadata": {},
   "outputs": [],
   "source": [
    "from sklearn.model_selection import train_test_split"
   ]
  },
  {
   "cell_type": "code",
   "execution_count": 61,
   "id": "bdc99657",
   "metadata": {},
   "outputs": [],
   "source": [
    "X = df['cnt'].values.reshape(-1,1)\n",
    "y = df['cnt'].values"
   ]
  },
  {
   "cell_type": "code",
   "execution_count": 62,
   "id": "5f691c86",
   "metadata": {},
   "outputs": [
    {
     "data": {
      "text/plain": [
       "<matplotlib.collections.PathCollection at 0x1d4ec8e7d00>"
      ]
     },
     "execution_count": 62,
     "metadata": {},
     "output_type": "execute_result"
    },
    {
     "data": {
      "image/png": "[encoded data removed]",
      "text/plain": [
       "<Figure size 432x288 with 1 Axes>"
      ]
     },
     "metadata": {
      "needs_background": "light"
     },
     "output_type": "display_data"
    }
   ],
   "source": [
    "plt.scatter(X,y)"
   ]
  },
  {
   "cell_type": "code",
   "execution_count": 63,
   "id": "20e9c080",
   "metadata": {},
   "outputs": [],
   "source": [
    "X_train, X_test, y_train, y_test = train_test_split(X, y, test_size=0.2, random_state=0)"
   ]
  },
  {
   "cell_type": "code",
   "execution_count": 65,
   "id": "c0c48750",
   "metadata": {},
   "outputs": [],
   "source": [
    "from sklearn.linear_model import LinearRegression"
   ]
  },
  {
   "cell_type": "code",
   "execution_count": 66,
   "id": "b9259622",
   "metadata": {},
   "outputs": [],
   "source": [
    "lr = LinearRegression(n_jobs=-1)"
   ]
  },
  {
   "cell_type": "code",
   "execution_count": 71,
   "id": "c9e083c3",
   "metadata": {},
   "outputs": [
    {
     "data": {
      "text/plain": [
       "LinearRegression(n_jobs=-1)"
      ]
     },
     "execution_count": 71,
     "metadata": {},
     "output_type": "execute_result"
    }
   ],
   "source": [
    "lr.fit(X_train, y_train)"
   ]
  },
  {
   "cell_type": "code",
   "execution_count": 72,
   "id": "a6c1fb3b",
   "metadata": {},
   "outputs": [],
   "source": [
    "#train data prediction\n",
    "y_train_pred = lr.predict(X_train)"
   ]
  },
  {
   "cell_type": "code",
   "execution_count": 73,
   "id": "05d15bbf",
   "metadata": {},
   "outputs": [],
   "source": [
    "#test data prediction\n",
    "y_test_pred = lr.predict(X_test)"
   ]
  },
  {
   "cell_type": "code",
   "execution_count": 75,
   "id": "64e7093a",
   "metadata": {},
   "outputs": [
    {
     "data": {
      "text/plain": [
       "0.0"
      ]
     },
     "execution_count": 75,
     "metadata": {},
     "output_type": "execute_result"
    }
   ],
   "source": [
    "# Mean squeare error\n",
    "from sklearn.metrics import mean_squared_error\n",
    "mean_squared_error(y_train, y_train_pred)"
   ]
  },
  {
   "cell_type": "code",
   "execution_count": 76,
   "id": "79970164",
   "metadata": {},
   "outputs": [
    {
     "data": {
      "text/plain": [
       "0.0"
      ]
     },
     "execution_count": 76,
     "metadata": {},
     "output_type": "execute_result"
    }
   ],
   "source": [
    "mean_squared_error(y_test, y_test_pred)"
   ]
  },
  {
   "cell_type": "code",
   "execution_count": 77,
   "id": "70e74e1c",
   "metadata": {},
   "outputs": [
    {
     "data": {
      "text/plain": [
       "1.0"
      ]
     },
     "execution_count": 77,
     "metadata": {},
     "output_type": "execute_result"
    }
   ],
   "source": [
    "# coefficient of determination (r2)\n",
    "from sklearn.metrics import r2_score\n",
    "r2_score(y_train, y_train_pred)"
   ]
  },
  {
   "cell_type": "code",
   "execution_count": 78,
   "id": "ecd6d5cd",
   "metadata": {},
   "outputs": [
    {
     "data": {
      "text/plain": [
       "1.0"
      ]
     },
     "execution_count": 78,
     "metadata": {},
     "output_type": "execute_result"
    }
   ],
   "source": [
    "r2_score(y_test, y_test_pred)"
   ]
  },
  {
   "cell_type": "code",
   "execution_count": 81,
   "id": "361da834",
   "metadata": {},
   "outputs": [
    {
     "data": {
      "image/png": "[encoded data removed]",
      "text/plain": [
       "<Figure size 432x288 with 1 Axes>"
      ]
     },
     "metadata": {},
     "output_type": "display_data"
    }
   ],
   "source": [
    "# Plot outputs\n",
    "plt.scatter(X_test, y_test, color=\"black\")\n",
    "plt.plot(X_test, y_test_pred, color=\"blue\", linewidth=3)\n",
    "\n",
    "plt.xticks(())\n",
    "plt.yticks(())\n",
    "\n",
    "plt.show()"
   ]
  },
  {
   "cell_type": "code",
   "execution_count": null,
   "id": "5e7bce59",
   "metadata": {},
   "outputs": [],
   "source": []
  }
 ],
 "metadata": {
  "kernelspec": {
   "display_name": "Python 3 (ipykernel)",
   "language": "python",
   "name": "python3"
  },
  "language_info": {
   "codemirror_mode": {
    "name": "ipython",
    "version": 3
   },
   "file_extension": ".py",
   "mimetype": "text/x-python",
   "name": "python",
   "nbconvert_exporter": "python",
   "pygments_lexer": "ipython3",
   "version": "3.9.12"
  }
 },
 "nbformat": 4,
 "nbformat_minor": 5
}
